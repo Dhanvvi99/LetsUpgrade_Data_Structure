{
 "cells": [
  {
   "cell_type": "markdown",
   "metadata": {},
   "source": [
    "### Linear Search"
   ]
  },
  {
   "cell_type": "code",
   "execution_count": 11,
   "metadata": {},
   "outputs": [
    {
     "name": "stdout",
     "output_type": "stream",
     "text": [
      "Enter the number of elements you want in your array: 3\n",
      "33\n",
      "66\n",
      "99\n",
      "Enter the element to be searched for: 66\n",
      "Element present at index 1\n"
     ]
    }
   ],
   "source": [
    "def linear_search(arr,n,x):\n",
    "    for i in range(0,x):\n",
    "        if arr[i] == n:\n",
    "            return i\n",
    "    return -1\n",
    "#driver code\n",
    "no_of_elements = int(input(\"Enter the number of elements you want in your array: \"))\n",
    "arr=[]                                                     #This is initialized for user input\n",
    "for i in range(0,no_of_elements):                          #This loop takes the user input \n",
    "    ele = int(input())\n",
    "    arr.append(ele)\n",
    "n = int(input(\"Enter the element to be searched for: \"))\n",
    "x = len(arr)\n",
    "\n",
    "res = linear_search(arr,n,x)\n",
    "if res == -1:\n",
    "    print(\"Element not present in the array\")\n",
    "else:\n",
    "    print(\"Element present at index\",res)"
   ]
  },
  {
   "cell_type": "code",
   "execution_count": null,
   "metadata": {},
   "outputs": [],
   "source": []
  }
 ],
 "metadata": {
  "kernelspec": {
   "display_name": "Python 3",
   "language": "python",
   "name": "python3"
  },
  "language_info": {
   "codemirror_mode": {
    "name": "ipython",
    "version": 3
   },
   "file_extension": ".py",
   "mimetype": "text/x-python",
   "name": "python",
   "nbconvert_exporter": "python",
   "pygments_lexer": "ipython3",
   "version": "3.7.6"
  }
 },
 "nbformat": 4,
 "nbformat_minor": 4
}
