{
 "cells": [
  {
   "cell_type": "markdown",
   "metadata": {},
   "source": [
    "### Question 1\n",
    "Write a python program that takes two numbers as the input such as X and Y and print the result\n",
    "of X^Y(X to the power of Y)."
   ]
  },
  {
   "cell_type": "code",
   "execution_count": 2,
   "metadata": {},
   "outputs": [
    {
     "name": "stdout",
     "output_type": "stream",
     "text": [
      "2 3\n",
      "8\n"
     ]
    }
   ],
   "source": [
    "x,y = [int(x) for x in input().split()]    #accepts space separated values\n",
    "res = x**y\n",
    "print(res)"
   ]
  },
  {
   "cell_type": "markdown",
   "metadata": {},
   "source": [
    "### Question 2\n",
    "Write a Python program to print the numbers in the list which are divisible by 3."
   ]
  },
  {
   "cell_type": "code",
   "execution_count": 6,
   "metadata": {},
   "outputs": [
    {
     "name": "stdout",
     "output_type": "stream",
     "text": [
      "33 36 72 24 55 82 11\n",
      "[33, 36, 72, 24]\n"
     ]
    }
   ],
   "source": [
    "l = [int(i) for i in input().split()]\n",
    "l1 = []\n",
    "for i in l:\n",
    "    if i%3 == 0:\n",
    "        l1.append(i)\n",
    "print(l1)"
   ]
  }
 ],
 "metadata": {
  "kernelspec": {
   "display_name": "Python 3",
   "language": "python",
   "name": "python3"
  },
  "language_info": {
   "codemirror_mode": {
    "name": "ipython",
    "version": 3
   },
   "file_extension": ".py",
   "mimetype": "text/x-python",
   "name": "python",
   "nbconvert_exporter": "python",
   "pygments_lexer": "ipython3",
   "version": "3.7.6"
  }
 },
 "nbformat": 4,
 "nbformat_minor": 4
}
